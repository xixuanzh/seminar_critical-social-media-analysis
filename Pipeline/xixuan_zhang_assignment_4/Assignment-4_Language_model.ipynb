{
 "cells": [
  {
   "cell_type": "markdown",
   "metadata": {
    "id": "iFXsrSxJlzCW"
   },
   "source": [
    "#Introduction\n",
    "\n",
    ".....\n"
   ]
  },
  {
   "cell_type": "markdown",
   "metadata": {},
   "source": [
    "Check to see if jupyter lab uses the correct python interpreter with '!which python'.\n",
    "It should be something like '/opt/anaconda3/envs/[environment name]/bin/python' (on Mac).\n",
    "If not, try this: https://github.com/jupyter/notebook/issues/3146#issuecomment-352718675"
   ]
  },
  {
   "cell_type": "code",
   "execution_count": 1,
   "metadata": {},
   "outputs": [
    {
     "name": "stdout",
     "output_type": "stream",
     "text": [
      "/Users/xixuan/opt/anaconda3/envs/criticalMedia/bin/python\r\n"
     ]
    }
   ],
   "source": [
    "!which python"
   ]
  },
  {
   "cell_type": "markdown",
   "metadata": {},
   "source": [
    "# Install dependencies:"
   ]
  },
  {
   "cell_type": "code",
   "execution_count": 10,
   "metadata": {
    "colab": {
     "base_uri": "https://localhost:8080/"
    },
    "id": "H0q7BTlbiCWW",
    "outputId": "32ddd123-4834-4913-f942-038e830d9276"
   },
   "outputs": [
    {
     "name": "stdout",
     "output_type": "stream",
     "text": [
      "Collecting package metadata (current_repodata.json): done\n",
      "Solving environment: done\n",
      "\n",
      "# All requested packages already installed.\n",
      "\n",
      "Collecting package metadata (current_repodata.json): done\n",
      "Solving environment: done\n",
      "\n",
      "# All requested packages already installed.\n",
      "\n",
      "Collecting package metadata (current_repodata.json): done\n",
      "Solving environment: done\n",
      "\n",
      "## Package Plan ##\n",
      "\n",
      "  environment location: /Users/xixuan/opt/anaconda3/envs/criticalmedia\n",
      "\n",
      "  added / updated specs:\n",
      "    - tensorflow-hub\n",
      "\n",
      "\n",
      "The following packages will be downloaded:\n",
      "\n",
      "    package                    |            build\n",
      "    ---------------------------|-----------------\n",
      "    openssl-1.1.1h             |       haf1e3a3_0         1.9 MB  conda-forge\n",
      "    ------------------------------------------------------------\n",
      "                                           Total:         1.9 MB\n",
      "\n",
      "The following packages will be UPDATED:\n",
      "\n",
      "  ca-certificates    anaconda::ca-certificates-2020.10.14-0 --> conda-forge::ca-certificates-2020.11.8-h033912b_0\n",
      "  certifi                anaconda::certifi-2020.6.20-py37_0 --> conda-forge::certifi-2020.11.8-py37hf985489_0\n",
      "\n",
      "The following packages will be SUPERSEDED by a higher-priority channel:\n",
      "\n",
      "  openssl                                          anaconda --> conda-forge\n",
      "\n",
      "\n",
      "\n",
      "Downloading and Extracting Packages\n",
      "openssl-1.1.1h       | 1.9 MB    | ##################################### | 100% \n",
      "Preparing transaction: done\n",
      "Verifying transaction: done\n",
      "Executing transaction: done\n",
      "Collecting package metadata (current_repodata.json): done\n",
      "Solving environment: done\n",
      "\n",
      "# All requested packages already installed.\n",
      "\n",
      "Collecting package metadata (current_repodata.json): done\n",
      "Solving environment: done\n",
      "\n",
      "# All requested packages already installed.\n",
      "\n",
      "Collecting package metadata (current_repodata.json): done\n",
      "Solving environment: done\n",
      "\n",
      "## Package Plan ##\n",
      "\n",
      "  environment location: /Users/xixuan/opt/anaconda3/envs/criticalmedia\n",
      "\n",
      "  added / updated specs:\n",
      "    - scikit-learn\n",
      "\n",
      "\n",
      "The following packages will be downloaded:\n",
      "\n",
      "    package                    |            build\n",
      "    ---------------------------|-----------------\n",
      "    openssl-1.1.1h             |       haf1e3a3_0         3.4 MB  anaconda\n",
      "    ------------------------------------------------------------\n",
      "                                           Total:         3.4 MB\n",
      "\n",
      "The following packages will be SUPERSEDED by a higher-priority channel:\n",
      "\n",
      "  ca-certificates    conda-forge::ca-certificates-2020.11.~ --> anaconda::ca-certificates-2020.10.14-0\n",
      "  certifi            conda-forge::certifi-2020.11.8-py37hf~ --> anaconda::certifi-2020.6.20-py37_0\n",
      "  openssl                                       conda-forge --> anaconda\n",
      "\n",
      "\n",
      "\n",
      "Downloading and Extracting Packages\n",
      "openssl-1.1.1h       | 3.4 MB    | ##################################### | 100% \n",
      "Preparing transaction: done\n",
      "Verifying transaction: done\n",
      "Executing transaction: done\n",
      "Collecting package metadata (current_repodata.json): done\n",
      "Solving environment: done\n",
      "\n",
      "## Package Plan ##\n",
      "\n",
      "  environment location: /Users/xixuan/opt/anaconda3/envs/criticalmedia\n",
      "\n",
      "  added / updated specs:\n",
      "    - matplotlib\n",
      "\n",
      "\n",
      "The following packages will be downloaded:\n",
      "\n",
      "    package                    |            build\n",
      "    ---------------------------|-----------------\n",
      "    openssl-1.1.1h             |       haf1e3a3_0         1.9 MB  conda-forge\n",
      "    ------------------------------------------------------------\n",
      "                                           Total:         1.9 MB\n",
      "\n",
      "The following packages will be UPDATED:\n",
      "\n",
      "  ca-certificates    anaconda::ca-certificates-2020.10.14-0 --> conda-forge::ca-certificates-2020.11.8-h033912b_0\n",
      "  certifi                anaconda::certifi-2020.6.20-py37_0 --> conda-forge::certifi-2020.11.8-py37hf985489_0\n",
      "\n",
      "The following packages will be SUPERSEDED by a higher-priority channel:\n",
      "\n",
      "  openssl                                          anaconda --> conda-forge\n",
      "\n",
      "\n",
      "\n",
      "Downloading and Extracting Packages\n",
      "openssl-1.1.1h       | 1.9 MB    | ##################################### | 100% \n",
      "Preparing transaction: done\n",
      "Verifying transaction: done\n",
      "Executing transaction: done\n",
      "Collecting package metadata (current_repodata.json): done\n",
      "Solving environment: done\n",
      "\n",
      "## Package Plan ##\n",
      "\n",
      "  environment location: /Users/xixuan/opt/anaconda3/envs/criticalmedia\n",
      "\n",
      "  added / updated specs:\n",
      "    - seaborn\n",
      "\n",
      "\n",
      "The following packages will be downloaded:\n",
      "\n",
      "    package                    |            build\n",
      "    ---------------------------|-----------------\n",
      "    openssl-1.1.1h             |       haf1e3a3_0         3.4 MB  anaconda\n",
      "    ------------------------------------------------------------\n",
      "                                           Total:         3.4 MB\n",
      "\n",
      "The following packages will be SUPERSEDED by a higher-priority channel:\n",
      "\n",
      "  ca-certificates    conda-forge::ca-certificates-2020.11.~ --> anaconda::ca-certificates-2020.10.14-0\n",
      "  certifi            conda-forge::certifi-2020.11.8-py37hf~ --> anaconda::certifi-2020.6.20-py37_0\n",
      "  openssl                                       conda-forge --> anaconda\n",
      "\n",
      "\n",
      "\n",
      "Downloading and Extracting Packages\n",
      "openssl-1.1.1h       | 3.4 MB    | ##################################### | 100% \n",
      "Preparing transaction: done\n",
      "Verifying transaction: done\n",
      "Executing transaction: done\n"
     ]
    }
   ],
   "source": [
    "install_packages = False\n",
    "if install_packages:\n",
    "    !conda install tensorflow=2 -y\n",
    "    !conda install -c anaconda pandas -y\n",
    "    !conda install -c conda-forge tensorflow-hub -y\n",
    "    !conda install -c akode html2text -y\n",
    "    !conda install -c conda-forge tqdm -y\n",
    "    !conda install -c anaconda scikit-learn -y\n",
    "    !conda install -c conda-forge matplotlib -y\n",
    "    !conda install -c anaconda seaborn -y"
   ]
  },
  {
   "cell_type": "markdown",
   "metadata": {},
   "source": [
    "# Imports"
   ]
  },
  {
   "cell_type": "code",
   "execution_count": 2,
   "metadata": {
    "id": "xD4HKjy9TC-g"
   },
   "outputs": [],
   "source": [
    "#imports\n",
    "import pandas as pd\n",
    "import numpy as np\n",
    "import os\n",
    "import time\n",
    "import tensorflow as tf\n",
    "import tensorflow_hub as hub\n",
    "import zipfile\n",
    "from html2text import HTML2Text\n",
    "from tqdm import tqdm\n",
    "import re\n",
    "from sklearn.metrics import pairwise_distances\n",
    "from sklearn.preprocessing import normalize\n",
    "import matplotlib.pyplot as plt\n",
    "import seaborn as sns"
   ]
  },
  {
   "cell_type": "markdown",
   "metadata": {},
   "source": [
    "# Set pandas print options\n",
    "This will improve readability of printed pandas dataframe.\n"
   ]
  },
  {
   "cell_type": "code",
   "execution_count": 3,
   "metadata": {
    "id": "SEH28FctS6SP"
   },
   "outputs": [],
   "source": [
    "pd.set_option('display.max_rows', None)\n",
    "pd.set_option('display.max_columns', None)\n",
    "pd.set_option('display.width', None)\n",
    "pd.set_option('display.max_colwidth', None)"
   ]
  },
  {
   "cell_type": "markdown",
   "metadata": {},
   "source": [
    "## Set global Parameters\n",
    "Set your parameters here:\n",
    "\n",
    "data_path: In this path put the data you have downloaded with YouTube Data Tools. \n",
    "output_path: Tghe files generated in this notebook will be saved here.\n",
    "\n",
    "url_dict: URLs to models on Tensorflow hub are saved here. Other models are available there.\n",
    "model_type: Define which model you would like to use. Choose one from url_dict\n",
    "\n",
    "new_embeddings: If this is true, new embeddings will be generated and saved at output_path. Otherwise, embeddings are loaded from Disc.\n",
    "\n",
    "\n"
   ]
  },
  {
   "cell_type": "code",
   "execution_count": 16,
   "metadata": {
    "id": "TL7Rvq_TD086"
   },
   "outputs": [],
   "source": [
    "data_path = './data/videoinfo_pwvVephTIHU_2020_11_29-19_23_17_comments.tab'\n",
    "output_path = \"./output/\"\n",
    "\n",
    "new_embeddings = True\n",
    "\n",
    "url_dict = {\n",
    "            'Transformer' : \"https://tfhub.dev/google/universal-sentence-encoder-large/5\",\n",
    "            'DAN' : \"https://tfhub.dev/google/universal-sentence-encoder/4\",\n",
    "            'Transformer_Multilingual': \"https://tfhub.dev/google/universal-sentence-encoder-multilingual-large/3\"\n",
    "}\n",
    "\n",
    "model_type = 'Transformer' #@param ['DAN','Transformer','Transformer_Multilingual']"
   ]
  },
  {
   "cell_type": "markdown",
   "metadata": {},
   "source": [
    "## Create output directory\n",
    "Try to create the directory defined by output_path"
   ]
  },
  {
   "cell_type": "code",
   "execution_count": 10,
   "metadata": {
    "colab": {
     "base_uri": "https://localhost:8080/"
    },
    "id": "NuvhsxjlZFhu",
    "outputId": "436a89b3-9ae8-4f74-f236-4a3f55b64d6d"
   },
   "outputs": [
    {
     "name": "stdout",
     "output_type": "stream",
     "text": [
      "Creation of the directory ./output/ failed\n"
     ]
    }
   ],
   "source": [
    "try:\n",
    "   os.mkdir(output_path)\n",
    "except OSError:\n",
    "  print (\"Creation of the directory %s failed\" % output_path)\n",
    "else:\n",
    "  print (\"Successfully created the directory %s \" % output_path)\n"
   ]
  },
  {
   "cell_type": "markdown",
   "metadata": {
    "id": "VO9QOLP_9DxJ"
   },
   "source": [
    "# Load Data\n",
    "Load you data as a pandas dataframe"
   ]
  },
  {
   "cell_type": "code",
   "execution_count": 17,
   "metadata": {},
   "outputs": [],
   "source": [
    "if new_embeddings:\n",
    "    data = pd.read_csv(data_path,sep='\\t',header=(0))\n",
    "    data.head()"
   ]
  },
  {
   "cell_type": "markdown",
   "metadata": {
    "id": "_IUWISh1M5nz"
   },
   "source": [
    "# Preprocessing\n",
    "Preprocess your data:\n",
    "- Drop empty rows\n",
    "- Drop unused columns"
   ]
  },
  {
   "cell_type": "code",
   "execution_count": 18,
   "metadata": {
    "id": "gbU3mk83MBIH"
   },
   "outputs": [],
   "source": [
    "if new_embeddings:\n",
    "    data = data.dropna(subset=['text', 'authorName']) # drop rows with no content\n",
    "    data=data.drop(['id', 'replyCount','likeCount','authorChannelUrl','authorChannelId','isReplyTo','isReplyToName'],axis=1) # drop unused columns\n",
    "    data.head()"
   ]
  },
  {
   "cell_type": "markdown",
   "metadata": {},
   "source": [
    "- remove HTML-tags, links and usernames"
   ]
  },
  {
   "cell_type": "code",
   "execution_count": 19,
   "metadata": {
    "id": "vIgxEvzcM39J"
   },
   "outputs": [
    {
     "name": "stderr",
     "output_type": "stream",
     "text": [
      "/Users/xixuan/opt/anaconda3/envs/criticalMedia/lib/python3.7/site-packages/tqdm/std.py:699: FutureWarning: The Panel class is removed from pandas. Accessing it from the top-level namespace will also be removed in the next version\n",
      "  from pandas import Panel\n",
      "100%|██████████| 4022/4022 [00:01<00:00, 3120.88it/s]\n"
     ]
    },
    {
     "name": "stdout",
     "output_type": "stream",
     "text": [
      "Removed HTML Tags.\n",
      "Removed Links.\n",
      "Removed user names.\n"
     ]
    }
   ],
   "source": [
    "if new_embeddings:\n",
    "    # Remove HTML tags\n",
    "    tqdm.pandas()\n",
    "    h = HTML2Text()\n",
    "    h.ignore_links = True\n",
    "    data['cleaned'] = data['text'].progress_apply(lambda x: h.handle(x))\n",
    "    print( \"Removed HTML Tags.\")\n",
    "\n",
    "    # Remove links\n",
    "    http_link_pattern = r'http\\S+'\n",
    "    bitly_link_pattern = r'bit.ly/\\S+'\n",
    "    data['cleaned'] = data['cleaned'].str.replace(http_link_pattern, '')\n",
    "    data['cleaned'] = data['cleaned'].str.replace(bitly_link_pattern, '')\n",
    "    print( \"Removed Links.\")\n",
    "\n",
    "    # Remove user names\n",
    "    keep_names = [\"earth\", \"Tide\", \"Geologist\", \"A Person\", \"Titanic\", \"adventure\", \"Sun\", \"The United States Of America\"] # user names we want to keep\n",
    "    user_names = [name for name in data['authorName'].unique() if (len(name)> 3 and name not in keep_names)]\n",
    "    data['cleaned'] = data['cleaned'].str.replace('|'.join(map(re.escape, user_names)), '')\n",
    "    print( \"Removed user names.\")"
   ]
  },
  {
   "cell_type": "markdown",
   "metadata": {},
   "source": [
    "# Save or Load preprocessed data\n",
    "\n",
    "Save your data afte preprocessing, or load preprocessed data from disc."
   ]
  },
  {
   "cell_type": "code",
   "execution_count": 20,
   "metadata": {
    "colab": {
     "base_uri": "https://localhost:8080/"
    },
    "id": "W0uP3D5IXvyT",
    "outputId": "ce705b12-d180-438e-8bb7-86a5dfffbdcf"
   },
   "outputs": [
    {
     "data": {
      "text/html": [
       "<div>\n",
       "<style scoped>\n",
       "    .dataframe tbody tr th:only-of-type {\n",
       "        vertical-align: middle;\n",
       "    }\n",
       "\n",
       "    .dataframe tbody tr th {\n",
       "        vertical-align: top;\n",
       "    }\n",
       "\n",
       "    .dataframe thead th {\n",
       "        text-align: right;\n",
       "    }\n",
       "</style>\n",
       "<table border=\"1\" class=\"dataframe\">\n",
       "  <thead>\n",
       "    <tr style=\"text-align: right;\">\n",
       "      <th></th>\n",
       "      <th>publishedAt</th>\n",
       "      <th>authorName</th>\n",
       "      <th>text</th>\n",
       "      <th>isReply</th>\n",
       "      <th>cleaned</th>\n",
       "    </tr>\n",
       "  </thead>\n",
       "  <tbody>\n",
       "    <tr>\n",
       "      <th>0</th>\n",
       "      <td>2020-11-26 00:17:10</td>\n",
       "      <td>Cipesco Pician</td>\n",
       "      <td>But but but...Greta said something else 😄</td>\n",
       "      <td>0</td>\n",
       "      <td>But but but...Greta said something else 😄\\n\\n</td>\n",
       "    </tr>\n",
       "    <tr>\n",
       "      <th>1</th>\n",
       "      <td>2020-11-18 13:57:27</td>\n",
       "      <td>Michael Krick</td>\n",
       "      <td>Every generation from the first caveman who saw a bolt of lightning and filled his animal skin to this generation think&amp;#39;s the world is coming to an end. The world comes to an end for thousands of people every day. Someday you will be one of them. Enjoy life while you can and stop worrying about climate change.</td>\n",
       "      <td>0</td>\n",
       "      <td>Every generation from the first caveman who saw a bolt of lightning and filled\\nhis animal skin to this generation think's the world is coming to an end. The\\nworld comes to an end for thousands of people every day. Someday you will be\\none of them. Enjoy life while you can and stop worrying about climate change.\\n\\n</td>\n",
       "    </tr>\n",
       "    <tr>\n",
       "      <th>2</th>\n",
       "      <td>2020-11-04 22:45:26</td>\n",
       "      <td>JeffJests</td>\n",
       "      <td>If the celestial dice rolled in my favor, Hurricane Sandy would move a bit faster up the coast and at midnight, Hurricane Sandy would arrive at Boston. This way, 20 feet of water would surge into the city, hopefully convincing him that it&amp;#39;s a very real concern. That way, Lower Manhattan would be spared and a bigger city would be saved.</td>\n",
       "      <td>0</td>\n",
       "      <td>If the celestial dice rolled in my favor, Hurricane Sandy would move a bit\\nfaster up the coast and at midnight, Hurricane Sandy would arrive at Boston.\\nThis way, 20 feet of water would surge into the city, hopefully convincing him\\nthat it's a very real concern. That way, Lower Manhattan would be spared and a\\nbigger city would be saved.\\n\\n</td>\n",
       "    </tr>\n",
       "    <tr>\n",
       "      <th>3</th>\n",
       "      <td>2020-11-01 04:12:53</td>\n",
       "      <td>Saul Contreras</td>\n",
       "      <td>I think this guy is getting paid by oil companies.</td>\n",
       "      <td>0</td>\n",
       "      <td>I think this guy is getting paid by oil companies.\\n\\n</td>\n",
       "    </tr>\n",
       "    <tr>\n",
       "      <th>4</th>\n",
       "      <td>2020-10-31 16:10:52</td>\n",
       "      <td>Lady Tate</td>\n",
       "      <td>remember to include the scientific FACT of the SUN and INFLUENCES of MAGNETISM BEING INTERPLANETARY in NATURE having MUCH MORE to do w/ OUR ATMOSPHERIC and TERRESTRIAL STATES/CONDITIONS THAN WHAT HUMAN SOCIETY HAS DONE (OR NOT)! PEOPLE NEED TO GAIN MORE KNOWLEDGE BEFORE SPEAKING/THINKING. without good comprehension one becomes confused and LED BY THOSE INTERESTS that have NO WISH to SECURE ANYONE/ANYTHING beyond their OWN self-interest ($$$)! we have PROBLEMS (real ones) in that instance (TO BE SURE)! but there needs to be REAL ATTENTION GIVEN to OUR RESOURCES and that means OUR NATURAL WORLD! OUR EARTH IS AN ECO-SYSTEM OF THE GREATEST POWER AS WELL AS OF THE HIGHEST DELICACY!</td>\n",
       "      <td>0</td>\n",
       "      <td>remember to include the scientific FACT of the SUN and INFLUENCES of MAGNETISM\\nBEING INTERPLANETARY in NATURE having MUCH MORE to do w/ OUR ATMOSPHERIC and\\nTERRESTRIAL STATES/CONDITIONS THAN WHAT HUMAN SOCIETY HAS DONE (OR NOT)!\\nPEOPLE NEED TO GAIN MORE KNOWLEDGE BEFORE SPEAKING/THINKING. without good\\ncomprehension one becomes confused and LED BY THOSE INTERESTS that have NO\\nWISH to SECURE ANYONE/ANYTHING beyond their OWN self-interest ($$$)! we have\\nPROBLEMS (real ones) in that instance (TO BE SURE)! but there needs to be REAL\\nATTENTION GIVEN to OUR RESOURCES and that means OUR NATURAL WORLD! OUR EARTH\\nIS AN ECO-SYSTEM OF THE GREATEST POWER AS WELL AS OF THE HIGHEST DELICACY!\\n\\n</td>\n",
       "    </tr>\n",
       "  </tbody>\n",
       "</table>\n",
       "</div>"
      ],
      "text/plain": [
       "           publishedAt      authorName  \\\n",
       "0  2020-11-26 00:17:10  Cipesco Pician   \n",
       "1  2020-11-18 13:57:27   Michael Krick   \n",
       "2  2020-11-04 22:45:26       JeffJests   \n",
       "3  2020-11-01 04:12:53  Saul Contreras   \n",
       "4  2020-10-31 16:10:52       Lady Tate   \n",
       "\n",
       "                                                                                                                                                                                                                                                                                                                                                                                                                                                                                                                                                                                                                                                                                                            text  \\\n",
       "0                                                                                                                                                                                                                                                                                                                                                                                                                                                                                                                                                                                                                                                                      But but but...Greta said something else 😄   \n",
       "1                                                                                                                                                                                                                                                                                                                                                                                    Every generation from the first caveman who saw a bolt of lightning and filled his animal skin to this generation think&#39;s the world is coming to an end. The world comes to an end for thousands of people every day. Someday you will be one of them. Enjoy life while you can and stop worrying about climate change.   \n",
       "2                                                                                                                                                                                                                                                                                                                                                          If the celestial dice rolled in my favor, Hurricane Sandy would move a bit faster up the coast and at midnight, Hurricane Sandy would arrive at Boston. This way, 20 feet of water would surge into the city, hopefully convincing him that it&#39;s a very real concern. That way, Lower Manhattan would be spared and a bigger city would be saved.   \n",
       "3                                                                                                                                                                                                                                                                                                                                                                                                                                                                                                                                                                                                                                                             I think this guy is getting paid by oil companies.   \n",
       "4  remember to include the scientific FACT of the SUN and INFLUENCES of MAGNETISM BEING INTERPLANETARY in NATURE having MUCH MORE to do w/ OUR ATMOSPHERIC and TERRESTRIAL STATES/CONDITIONS THAN WHAT HUMAN SOCIETY HAS DONE (OR NOT)! PEOPLE NEED TO GAIN MORE KNOWLEDGE BEFORE SPEAKING/THINKING. without good comprehension one becomes confused and LED BY THOSE INTERESTS that have NO WISH to SECURE ANYONE/ANYTHING beyond their OWN self-interest ($$$)! we have PROBLEMS (real ones) in that instance (TO BE SURE)! but there needs to be REAL ATTENTION GIVEN to OUR RESOURCES and that means OUR NATURAL WORLD! OUR EARTH IS AN ECO-SYSTEM OF THE GREATEST POWER AS WELL AS OF THE HIGHEST DELICACY!   \n",
       "\n",
       "   isReply  \\\n",
       "0        0   \n",
       "1        0   \n",
       "2        0   \n",
       "3        0   \n",
       "4        0   \n",
       "\n",
       "                                                                                                                                                                                                                                                                                                                                                                                                                                                                                                                                                                                                                                                                                                                     cleaned  \n",
       "0                                                                                                                                                                                                                                                                                                                                                                                                                                                                                                                                                                                                                                                                              But but but...Greta said something else 😄\\n\\n  \n",
       "1                                                                                                                                                                                                                                                                                                                                                                                             Every generation from the first caveman who saw a bolt of lightning and filled\\nhis animal skin to this generation think's the world is coming to an end. The\\nworld comes to an end for thousands of people every day. Someday you will be\\none of them. Enjoy life while you can and stop worrying about climate change.\\n\\n  \n",
       "2                                                                                                                                                                                                                                                                                                                                                                  If the celestial dice rolled in my favor, Hurricane Sandy would move a bit\\nfaster up the coast and at midnight, Hurricane Sandy would arrive at Boston.\\nThis way, 20 feet of water would surge into the city, hopefully convincing him\\nthat it's a very real concern. That way, Lower Manhattan would be spared and a\\nbigger city would be saved.\\n\\n  \n",
       "3                                                                                                                                                                                                                                                                                                                                                                                                                                                                                                                                                                                                                                                                     I think this guy is getting paid by oil companies.\\n\\n  \n",
       "4  remember to include the scientific FACT of the SUN and INFLUENCES of MAGNETISM\\nBEING INTERPLANETARY in NATURE having MUCH MORE to do w/ OUR ATMOSPHERIC and\\nTERRESTRIAL STATES/CONDITIONS THAN WHAT HUMAN SOCIETY HAS DONE (OR NOT)!\\nPEOPLE NEED TO GAIN MORE KNOWLEDGE BEFORE SPEAKING/THINKING. without good\\ncomprehension one becomes confused and LED BY THOSE INTERESTS that have NO\\nWISH to SECURE ANYONE/ANYTHING beyond their OWN self-interest ($$$)! we have\\nPROBLEMS (real ones) in that instance (TO BE SURE)! but there needs to be REAL\\nATTENTION GIVEN to OUR RESOURCES and that means OUR NATURAL WORLD! OUR EARTH\\nIS AN ECO-SYSTEM OF THE GREATEST POWER AS WELL AS OF THE HIGHEST DELICACY!\\n\\n  "
      ]
     },
     "execution_count": 20,
     "metadata": {},
     "output_type": "execute_result"
    }
   ],
   "source": [
    "if new_embeddings:\n",
    "  data.to_pickle(output_path+'data_preprocessed'+'.pkl')\n",
    "else:\n",
    "  data = pd.read_pickle(output_path+'data_preprocessed'+'.pkl')\n",
    "data.head()"
   ]
  },
  {
   "cell_type": "markdown",
   "metadata": {
    "id": "5YxXP5PtAFyV"
   },
   "source": [
    "# Produce Text Embeddings with Universal Sentence Encoder"
   ]
  },
  {
   "cell_type": "markdown",
   "metadata": {
    "id": "d_sStH0bXhFD"
   },
   "source": [
    "## Load Model\n",
    "Load the model from TF-hub"
   ]
  },
  {
   "cell_type": "code",
   "execution_count": 21,
   "metadata": {
    "id": "ugb89Xy7XdqR"
   },
   "outputs": [
    {
     "name": "stdout",
     "output_type": "stream",
     "text": [
      "Loading model. This will take some time...\n"
     ]
    }
   ],
   "source": [
    "hub_url = url_dict[model_type]\n",
    "if new_embeddings:\n",
    "  print(\"Loading model. This will take some time...\")\n",
    "  embed = hub.load(hub_url)"
   ]
  },
  {
   "cell_type": "markdown",
   "metadata": {},
   "source": [
    "## Embed Documents\n",
    "Produce embeddings of your documents."
   ]
  },
  {
   "cell_type": "code",
   "execution_count": 22,
   "metadata": {
    "id": "Yz3Qlca7YGEN"
   },
   "outputs": [
    {
     "name": "stdout",
     "output_type": "stream",
     "text": [
      "1 2 3 4 5 6 7 8 9 10 11 12 13 14 15 16 17 18 19 20 The embeddings vector is of fixed length 512\n"
     ]
    },
    {
     "data": {
      "text/plain": [
       "TensorShape([4022, 512])"
      ]
     },
     "execution_count": 22,
     "metadata": {},
     "output_type": "execute_result"
    }
   ],
   "source": [
    "if new_embeddings:\n",
    "    for k,g in data.groupby(np.arange(len(data))//200):\n",
    "        if k == 0:\n",
    "            embeddings = embed(g['cleaned'])\n",
    "        else:\n",
    "            embeddings_new = embed(g['cleaned'])\n",
    "            embeddings = tf.concat(values=[embeddings,embeddings_new],axis = 0)\n",
    "            print(k , end =\" \")\n",
    "    print(\"The embeddings vector is of fixed length {}\".format(embeddings.shape[1]))\n",
    "\n",
    "    np.save(output_path+'/embeddings'+model_type+'.npy', embeddings, allow_pickle=True, fix_imports=True)\n",
    "else:\n",
    "    embeddings = np.load(output_path+'/embeddings'+model_type+'.npy', mmap_mode=None, allow_pickle=False, fix_imports=True, encoding='ASCII')\n",
    "\n",
    "embeddings.shape"
   ]
  },
  {
   "cell_type": "markdown",
   "metadata": {
    "id": "oFTi_5lUAnJF"
   },
   "source": [
    "## Calculate Similarity Matrix with angular distance\n",
    "\n",
    "'Following Cer et al. (2018), we first compute\n",
    "the sentence embeddings u, v for an STS sentence\n",
    "pair, and then score the sentence pair similarity\n",
    "based on the angular distance between the two\n",
    "embedding vectors  d = − arccos (uv/||u|| ||v||\u0011).'"
   ]
  },
  {
   "cell_type": "code",
   "execution_count": 23,
   "metadata": {},
   "outputs": [
    {
     "name": "stdout",
     "output_type": "stream",
     "text": [
      "[[ 1.         -0.01715221 -0.04034043 ...  0.02671194  0.0686752\n",
      "   0.06104154]\n",
      " [-0.01715221  1.          0.2281855  ...  0.36380428  0.26033556\n",
      "   0.13954692]\n",
      " [-0.04034043  0.2281855   1.         ...  0.12289812  0.13378306\n",
      "   0.04235145]\n",
      " ...\n",
      " [ 0.02671194  0.36380428  0.12289812 ...  0.99999994  0.4810893\n",
      "   0.0890125 ]\n",
      " [ 0.0686752   0.26033556  0.13378306 ...  0.4810893   0.9999999\n",
      "   0.11477676]\n",
      " [ 0.06104154  0.13954692  0.04235145 ...  0.0890125   0.11477676\n",
      "   1.        ]]\n"
     ]
    }
   ],
   "source": [
    "from sklearn.metrics.pairwise import cosine_similarity\n",
    "def cos_sim(input_vectors):\n",
    "    similarity = cosine_similarity(input_vectors)\n",
    "    return similarity\n",
    "cosine_similarity_matrix = cos_sim(np.array(embeddings))\n",
    "print(cosine_similarity_matrix)"
   ]
  },
  {
   "cell_type": "markdown",
   "metadata": {},
   "source": [
    "# Plots Similarity \n",
    "Plot and print a heat map showing the semantic contextual similarity between comments."
   ]
  },
  {
   "cell_type": "code",
   "execution_count": 24,
   "metadata": {},
   "outputs": [
    {
     "name": "stderr",
     "output_type": "stream",
     "text": [
      "/Users/xixuan/opt/anaconda3/envs/criticalMedia/lib/python3.7/site-packages/seaborn/matrix.py:311: UserWarning: Attempting to set identical left == right == 0 results in singular transformations; automatically expanding.\n",
      "  ax.set(xlim=(0, self.data.shape[1]), ylim=(0, self.data.shape[0]))\n",
      "/Users/xixuan/opt/anaconda3/envs/criticalMedia/lib/python3.7/site-packages/seaborn/matrix.py:311: UserWarning: Attempting to set identical bottom == top == 0 results in singular transformations; automatically expanding.\n",
      "  ax.set(xlim=(0, self.data.shape[1]), ylim=(0, self.data.shape[0]))\n"
     ]
    },
    {
     "data": {
      "image/png": "[encoded data removed]",
      "text/plain": [
       "<Figure size 432x288 with 2 Axes>"
      ]
     },
     "metadata": {},
     "output_type": "display_data"
    }
   ],
   "source": [
    "import seaborn as sns\n",
    "def plot_similarity(labels, features, rotation):\n",
    "  corr = np.inner(features, features)\n",
    "  sns.set(font_scale=1.2)\n",
    "  g = sns.heatmap(\n",
    "      corr,\n",
    "      xticklabels=labels,\n",
    "      yticklabels=labels,\n",
    "      vmin=0,\n",
    "      vmax=1,\n",
    "      cmap=\"YlOrRd\")\n",
    "  g.set_xticklabels(labels, rotation=rotation)\n",
    "  g.set_title(\"Semantic Textual Similarity\")\n",
    "\n",
    "num_samples = 5\n",
    "off_set = 10000\n",
    "\n",
    "plot_similarity(data.iloc[off_set:off_set+num_samples]['cleaned'], embeddings[off_set:off_set+num_samples], 90)"
   ]
  },
  {
   "cell_type": "markdown",
   "metadata": {},
   "source": [
    "# Show neighbours of a comment \n",
    "Define which comment to analyze"
   ]
  },
  {
   "cell_type": "code",
   "execution_count": 25,
   "metadata": {},
   "outputs": [
    {
     "name": "stdout",
     "output_type": "stream",
     "text": [
      " uh so much of it. To suggest that “the climate is always changing\n",
      "so don’t worry” is like me saying “oh people die all the time don’t worry\n",
      "about cancer”\n",
      "\n",
      "\n"
     ]
    }
   ],
   "source": [
    "comment_index = 324\n",
    "comment = data[\"cleaned\"][comment_index]\n",
    "comment_list = data[\"cleaned\"].tolist()\n",
    "print(comment)"
   ]
  },
  {
   "cell_type": "markdown",
   "metadata": {},
   "source": [
    "Print similar comments."
   ]
  },
  {
   "cell_type": "code",
   "execution_count": 26,
   "metadata": {},
   "outputs": [
    {
     "name": "stdout",
     "output_type": "stream",
     "text": [
      "Top similar comment 1:  uh so much of it. To suggest that “the climate is always changing\n",
      "so don’t worry” is like me saying “oh people die all the time don’t worry\n",
      "about cancer”\n",
      "\n",
      "\n",
      "Top similar comment 2: Climate is always changing...correct. Worry? Yes. Climate has never changed so\n",
      "fast before as now. Worry.\n",
      "\n",
      "\n",
      "Top similar comment 3: Climate change is happening now. You should worry and think up ways to reduce\n",
      "and prevent further climate change.\n",
      "\n",
      "\n",
      "Top similar comment 4: I've never worried about the climate and I never will, Global Warming is such\n",
      "an utter hoax.  \n",
      "The only thing man-made is the fear mongering going on by weak minded people\n",
      "and the very powerful.\n",
      "\n",
      "\n",
      "Top similar comment 5: Just because climate is always changing doesn’t mean we shouldn’t be worried\n",
      "about the repercussions of it??Especially when we’ve accelerated this process\n",
      "by an absurd amount?? I agree with what he’s saying, but to suggest that its\n",
      "just not an issue like many seem to be thinking in the comments is scary.\n",
      "\n",
      "\n",
      "Top similar comment 6: He’s talking about natural weather occurrences ... not climate change. They’re\n",
      "very very different.\n",
      "\n",
      "\n",
      "Top similar comment 7: He's saying we shouldn't be worried about global warming because we can't\n",
      "control it.\n",
      "\n",
      "\n",
      "Top similar comment 8: @ Ah no. It's like saying, this last week sure has been getting\n",
      "hotter. I think we'll all be dead by next month when the temperature hits 150\n",
      "degrees.\n",
      "\n",
      "\n",
      "Top similar comment 9: Lots of red herring here and you bozos are just eating it right up. Dude is\n",
      "not saying climate change isnt happening or that its not spurred by human\n",
      "behavior or that it wont have drastic and destructive consequences for\n",
      "civilization; he’s saying shit happens in nature sometimes and btw, humans are\n",
      "super adaptable lmao what a bunch of retards\n",
      "\n",
      "\n",
      "Top similar comment 10: Lots of red herring here and you bozos are just eating it right up. Dude is\n",
      "not saying climate change isnt happening or that its not spurred by human\n",
      "behavior or that it wont have drastic and destructive consequences for\n",
      "civilization; he’s saying shit happens in nature sometimes and btw, humans are\n",
      "super adaptable lmao what a bunch of retards\n",
      "\n",
      "\n",
      "Top similar comment 11: Lots of red herring here and you bozos are just eating it right up. Dude is\n",
      "not saying climate change isnt happening or that its not spurred by human\n",
      "behavior or that it wont have drastic and destructive consequences for\n",
      "civilization; he’s saying shit happens in nature sometimes and oh btw, humans\n",
      "are super adaptable. lmao what a bunch of retards\n",
      "\n",
      "\n",
      "Top similar comment 12: You shouldn’t worry because it’s fucking bullshit. Climate change is about\n",
      "globalism\n",
      "\n",
      "\n",
      "Top similar comment 13: People are not worrying if the temperature is going up or down, as you say.\n",
      "They are worrying it's changing significantly because of what mankind has\n",
      "done. That's the issue, please address it.\n",
      "\n",
      "\n",
      "Top similar comment 14: Its funny, i never hear squat about \"climate change/global warming\" until\n",
      "theres a major upcoming election.unreal sickos\n",
      "\n",
      "\n",
      "Top similar comment 15: He nails it saying we've been warming for 12k years and modern temp collation\n",
      "is entirely different to historic proxy data therefore claiming accelerated\n",
      "temp rise as fact is utter conjecture.\n",
      "\n",
      "\n",
      "Top similar comment 16: The only thing we have to worry about climate change is what politicians do to\n",
      "solve the problem!\n",
      "\n",
      "\n",
      "Top similar comment 17: Global warming is not a reason to worry, Global cooling on the other hand, is\n",
      "a real reason to be worry about it, since historical records are kept, the GSM\n",
      "has brought famine, disease and awful times to humanity...\n",
      "\n",
      "\n",
      "Top similar comment 18: The planet has always gone through extreme climate change, and it always will.\n",
      "We are well over due the next ice age and there is absolutely NOTHING we can\n",
      "do to stop it. It's coming baby, it's coming!!! The earth is just warming up a\n",
      "little before the BIG FREEZE sets in.\n",
      "\n",
      "\n",
      "Top similar comment 19: no its not the fact that the climate is changing that they are worried about\n",
      "its the rate at witch its changing. People try and make the points that it has\n",
      "been hotter and stuff and that things go extinct, but all the times it has\n",
      "happened at this rate it has killed 75-95% of all life on earth and we have\n",
      "killed ~50% since humans came around\n",
      "\n",
      "\n",
      "Top similar comment 20: Yeah because the earth hasn't been warming and anyone can notice that, they\n",
      "started using using a generic term. Now they can say climate change causes\n",
      "warming, cooling, hurricane and anything else.\n",
      "\n",
      "\n"
     ]
    }
   ],
   "source": [
    "def get_top_similar(sentence, sentence_list, similarity_matrix, topN):\n",
    "    # find the index of sentence in list\n",
    "    index = sentence_list.index(sentence)\n",
    "    # get the corresponding row in similarity matrix\n",
    "    similarity_row = np.array(similarity_matrix[index, :])\n",
    "    # get the indices of top similar\n",
    "    indices = similarity_row.argsort()[-topN:][::-1]\n",
    "    return [sentence_list[i] for i in indices]\n",
    "\n",
    "\n",
    "for i, value in enumerate(get_top_similar(comment, comment_list, cosine_similarity_matrix, 20)):\n",
    "  print(\"Top similar comment {}: {}\".format(i+1, value))"
   ]
  },
  {
   "cell_type": "code",
   "execution_count": null,
   "metadata": {},
   "outputs": [],
   "source": []
  }
 ],
 "metadata": {
  "colab": {
   "collapsed_sections": [],
   "name": "USE_Experiments_new.ipynb",
   "provenance": [],
   "toc_visible": true
  },
  "kernelspec": {
   "display_name": "Python 3",
   "language": "python",
   "name": "python3"
  },
  "language_info": {
   "codemirror_mode": {
    "name": "ipython",
    "version": 3
   },
   "file_extension": ".py",
   "mimetype": "text/x-python",
   "name": "python",
   "nbconvert_exporter": "python",
   "pygments_lexer": "ipython3",
   "version": "3.7.8"
  }
 },
 "nbformat": 4,
 "nbformat_minor": 4
}
